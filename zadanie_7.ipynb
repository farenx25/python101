{
 "cells": [
  {
   "cell_type": "code",
   "execution_count": 151,
   "metadata": {},
   "outputs": [
    {
     "name": "stdout",
     "output_type": "stream",
     "text": [
      "True\n",
      "True\n",
      "True\n",
      "True\n",
      "True\n",
      "True\n"
     ]
    }
   ],
   "source": [
    "import itertools as it\n",
    "\n",
    "def solve(y):\n",
    "    score = []\n",
    "    for permutation in list(it.permutations(y)):\n",
    "        ray = [1]\n",
    "        for i in range(1,len(permutation)):\n",
    "            k = 1\n",
    "            while permutation[i] > permutation[i-k] and i-k >= 0:\n",
    "                k += 1\n",
    "            ray.append(k)\n",
    "        score.append(sum(ray))\n",
    "    return round(sum(score)/len(score),2)\n",
    "\n",
    "\n",
    "test_1 = [1, 2, 3]\n",
    "test_2 = [3, 3, 3]\n",
    "test_3 = [2, 2, 3]\n",
    "test_4 = [10, 2, 4, 4]\n",
    "test_5 = [10, 10, 10, 5, 10]\n",
    "test_6 = [1, 2, 3, 4, 5, 6]\n",
    "\n",
    "print(solve(test_1) == 4.33)\n",
    "print(solve(test_2) == 3.00)\n",
    "print(solve(test_3) == 4.00)\n",
    "print(solve(test_4) == 6.00)\n",
    "print(solve(test_5) == 5.80)\n",
    "print(solve(test_6) == 11.15)"
   ]
  }
 ],
 "metadata": {
  "kernelspec": {
   "display_name": "Python 3",
   "language": "python",
   "name": "python3"
  },
  "language_info": {
   "codemirror_mode": {
    "name": "ipython",
    "version": 3
   },
   "file_extension": ".py",
   "mimetype": "text/x-python",
   "name": "python",
   "nbconvert_exporter": "python",
   "pygments_lexer": "ipython3",
   "version": "3.7.0"
  }
 },
 "nbformat": 4,
 "nbformat_minor": 2
}
